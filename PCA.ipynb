{
 "cells": [
  {
   "cell_type": "code",
   "execution_count": 17,
   "metadata": {
    "scrolled": true
   },
   "outputs": [
    {
     "data": {
      "text/html": [
       "<div>\n",
       "<style scoped>\n",
       "    .dataframe tbody tr th:only-of-type {\n",
       "        vertical-align: middle;\n",
       "    }\n",
       "\n",
       "    .dataframe tbody tr th {\n",
       "        vertical-align: top;\n",
       "    }\n",
       "\n",
       "    .dataframe thead th {\n",
       "        text-align: right;\n",
       "    }\n",
       "</style>\n",
       "<table border=\"1\" class=\"dataframe\">\n",
       "  <thead>\n",
       "    <tr style=\"text-align: right;\">\n",
       "      <th></th>\n",
       "      <th>Name</th>\n",
       "      <th>e_magic</th>\n",
       "      <th>e_cblp</th>\n",
       "      <th>e_cp</th>\n",
       "      <th>e_crlc</th>\n",
       "      <th>e_cparhdr</th>\n",
       "      <th>e_minalloc</th>\n",
       "      <th>e_maxalloc</th>\n",
       "      <th>e_ss</th>\n",
       "      <th>e_sp</th>\n",
       "      <th>...</th>\n",
       "      <th>SectionMaxChar</th>\n",
       "      <th>SectionMainChar</th>\n",
       "      <th>DirectoryEntryImport</th>\n",
       "      <th>DirectoryEntryImportSize</th>\n",
       "      <th>DirectoryEntryExport</th>\n",
       "      <th>ImageDirectoryEntryExport</th>\n",
       "      <th>ImageDirectoryEntryImport</th>\n",
       "      <th>ImageDirectoryEntryResource</th>\n",
       "      <th>ImageDirectoryEntryException</th>\n",
       "      <th>ImageDirectoryEntrySecurity</th>\n",
       "    </tr>\n",
       "  </thead>\n",
       "  <tbody>\n",
       "    <tr>\n",
       "      <td>0</td>\n",
       "      <td>VirusShare_a878ba26000edaac5c98eff4432723b3</td>\n",
       "      <td>23117</td>\n",
       "      <td>144</td>\n",
       "      <td>3</td>\n",
       "      <td>0</td>\n",
       "      <td>4</td>\n",
       "      <td>0</td>\n",
       "      <td>65535</td>\n",
       "      <td>0</td>\n",
       "      <td>184</td>\n",
       "      <td>...</td>\n",
       "      <td>3758096608</td>\n",
       "      <td>0</td>\n",
       "      <td>7</td>\n",
       "      <td>152</td>\n",
       "      <td>0</td>\n",
       "      <td>0</td>\n",
       "      <td>54440</td>\n",
       "      <td>77824</td>\n",
       "      <td>73728</td>\n",
       "      <td>0</td>\n",
       "    </tr>\n",
       "    <tr>\n",
       "      <td>1</td>\n",
       "      <td>VirusShare_ef9130570fddc174b312b2047f5f4cf0</td>\n",
       "      <td>23117</td>\n",
       "      <td>144</td>\n",
       "      <td>3</td>\n",
       "      <td>0</td>\n",
       "      <td>4</td>\n",
       "      <td>0</td>\n",
       "      <td>65535</td>\n",
       "      <td>0</td>\n",
       "      <td>184</td>\n",
       "      <td>...</td>\n",
       "      <td>3791650880</td>\n",
       "      <td>0</td>\n",
       "      <td>16</td>\n",
       "      <td>311</td>\n",
       "      <td>0</td>\n",
       "      <td>0</td>\n",
       "      <td>262276</td>\n",
       "      <td>294912</td>\n",
       "      <td>0</td>\n",
       "      <td>346112</td>\n",
       "    </tr>\n",
       "    <tr>\n",
       "      <td>2</td>\n",
       "      <td>VirusShare_ef84cdeba22be72a69b198213dada81a</td>\n",
       "      <td>23117</td>\n",
       "      <td>144</td>\n",
       "      <td>3</td>\n",
       "      <td>0</td>\n",
       "      <td>4</td>\n",
       "      <td>0</td>\n",
       "      <td>65535</td>\n",
       "      <td>0</td>\n",
       "      <td>184</td>\n",
       "      <td>...</td>\n",
       "      <td>3221225536</td>\n",
       "      <td>0</td>\n",
       "      <td>6</td>\n",
       "      <td>176</td>\n",
       "      <td>0</td>\n",
       "      <td>0</td>\n",
       "      <td>36864</td>\n",
       "      <td>40960</td>\n",
       "      <td>0</td>\n",
       "      <td>0</td>\n",
       "    </tr>\n",
       "    <tr>\n",
       "      <td>3</td>\n",
       "      <td>VirusShare_6bf3608e60ebc16cbcff6ed5467d469e</td>\n",
       "      <td>23117</td>\n",
       "      <td>144</td>\n",
       "      <td>3</td>\n",
       "      <td>0</td>\n",
       "      <td>4</td>\n",
       "      <td>0</td>\n",
       "      <td>65535</td>\n",
       "      <td>0</td>\n",
       "      <td>184</td>\n",
       "      <td>...</td>\n",
       "      <td>3224371328</td>\n",
       "      <td>0</td>\n",
       "      <td>8</td>\n",
       "      <td>155</td>\n",
       "      <td>0</td>\n",
       "      <td>0</td>\n",
       "      <td>356352</td>\n",
       "      <td>1003520</td>\n",
       "      <td>0</td>\n",
       "      <td>14109472</td>\n",
       "    </tr>\n",
       "    <tr>\n",
       "      <td>4</td>\n",
       "      <td>VirusShare_2cc94d952b2efb13c7d6bbe0dd59d3fb</td>\n",
       "      <td>23117</td>\n",
       "      <td>144</td>\n",
       "      <td>3</td>\n",
       "      <td>0</td>\n",
       "      <td>4</td>\n",
       "      <td>0</td>\n",
       "      <td>65535</td>\n",
       "      <td>0</td>\n",
       "      <td>184</td>\n",
       "      <td>...</td>\n",
       "      <td>3227516992</td>\n",
       "      <td>0</td>\n",
       "      <td>2</td>\n",
       "      <td>43</td>\n",
       "      <td>0</td>\n",
       "      <td>0</td>\n",
       "      <td>61440</td>\n",
       "      <td>73728</td>\n",
       "      <td>0</td>\n",
       "      <td>90624</td>\n",
       "    </tr>\n",
       "  </tbody>\n",
       "</table>\n",
       "<p>5 rows × 79 columns</p>\n",
       "</div>"
      ],
      "text/plain": [
       "                                          Name  e_magic  e_cblp  e_cp  e_crlc  \\\n",
       "0  VirusShare_a878ba26000edaac5c98eff4432723b3    23117     144     3       0   \n",
       "1  VirusShare_ef9130570fddc174b312b2047f5f4cf0    23117     144     3       0   \n",
       "2  VirusShare_ef84cdeba22be72a69b198213dada81a    23117     144     3       0   \n",
       "3  VirusShare_6bf3608e60ebc16cbcff6ed5467d469e    23117     144     3       0   \n",
       "4  VirusShare_2cc94d952b2efb13c7d6bbe0dd59d3fb    23117     144     3       0   \n",
       "\n",
       "   e_cparhdr  e_minalloc  e_maxalloc  e_ss  e_sp  ...  SectionMaxChar  \\\n",
       "0          4           0       65535     0   184  ...      3758096608   \n",
       "1          4           0       65535     0   184  ...      3791650880   \n",
       "2          4           0       65535     0   184  ...      3221225536   \n",
       "3          4           0       65535     0   184  ...      3224371328   \n",
       "4          4           0       65535     0   184  ...      3227516992   \n",
       "\n",
       "   SectionMainChar  DirectoryEntryImport  DirectoryEntryImportSize  \\\n",
       "0                0                     7                       152   \n",
       "1                0                    16                       311   \n",
       "2                0                     6                       176   \n",
       "3                0                     8                       155   \n",
       "4                0                     2                        43   \n",
       "\n",
       "   DirectoryEntryExport  ImageDirectoryEntryExport  ImageDirectoryEntryImport  \\\n",
       "0                     0                          0                      54440   \n",
       "1                     0                          0                     262276   \n",
       "2                     0                          0                      36864   \n",
       "3                     0                          0                     356352   \n",
       "4                     0                          0                      61440   \n",
       "\n",
       "   ImageDirectoryEntryResource  ImageDirectoryEntryException  \\\n",
       "0                        77824                         73728   \n",
       "1                       294912                             0   \n",
       "2                        40960                             0   \n",
       "3                      1003520                             0   \n",
       "4                        73728                             0   \n",
       "\n",
       "   ImageDirectoryEntrySecurity  \n",
       "0                            0  \n",
       "1                       346112  \n",
       "2                            0  \n",
       "3                     14109472  \n",
       "4                        90624  \n",
       "\n",
       "[5 rows x 79 columns]"
      ]
     },
     "execution_count": 17,
     "metadata": {},
     "output_type": "execute_result"
    }
   ],
   "source": [
    "\n",
    "import pandas as pd\n",
    "\n",
    "df = pd.read_csv(r\"C:\\\\Contents\\\\Kaggle\\\\file_pe_headers.csv\")\n",
    "\n",
    "df.head()\n",
    "\n"
   ]
  },
  {
   "cell_type": "code",
   "execution_count": 4,
   "metadata": {},
   "outputs": [
    {
     "data": {
      "text/plain": [
       "Index(['Name', 'e_magic', 'e_cblp', 'e_cp', 'e_crlc', 'e_cparhdr',\n",
       "       'e_minalloc', 'e_maxalloc', 'e_ss', 'e_sp', 'e_csum', 'e_ip', 'e_cs',\n",
       "       'e_lfarlc', 'e_ovno', 'e_oemid', 'e_oeminfo', 'e_lfanew', 'Machine',\n",
       "       'NumberOfSections', 'TimeDateStamp', 'PointerToSymbolTable',\n",
       "       'NumberOfSymbols', 'SizeOfOptionalHeader', 'Characteristics', 'Magic',\n",
       "       'MajorLinkerVersion', 'MinorLinkerVersion', 'SizeOfCode',\n",
       "       'SizeOfInitializedData', 'SizeOfUninitializedData',\n",
       "       'AddressOfEntryPoint', 'BaseOfCode', 'ImageBase', 'SectionAlignment',\n",
       "       'FileAlignment', 'MajorOperatingSystemVersion',\n",
       "       'MinorOperatingSystemVersion', 'MajorImageVersion', 'MinorImageVersion',\n",
       "       'MajorSubsystemVersion', 'MinorSubsystemVersion', 'SizeOfHeaders',\n",
       "       'CheckSum', 'SizeOfImage', 'Subsystem', 'DllCharacteristics',\n",
       "       'SizeOfStackReserve', 'SizeOfStackCommit', 'SizeOfHeapReserve',\n",
       "       'SizeOfHeapCommit', 'LoaderFlags', 'NumberOfRvaAndSizes', 'Malware',\n",
       "       'SuspiciousImportFunctions', 'SuspiciousNameSection', 'SectionsLength',\n",
       "       'SectionMinEntropy', 'SectionMaxEntropy', 'SectionMinRawsize',\n",
       "       'SectionMaxRawsize', 'SectionMinVirtualsize', 'SectionMaxVirtualsize',\n",
       "       'SectionMaxPhysical', 'SectionMinPhysical', 'SectionMaxVirtual',\n",
       "       'SectionMinVirtual', 'SectionMaxPointerData', 'SectionMinPointerData',\n",
       "       'SectionMaxChar', 'SectionMainChar', 'DirectoryEntryImport',\n",
       "       'DirectoryEntryImportSize', 'DirectoryEntryExport',\n",
       "       'ImageDirectoryEntryExport', 'ImageDirectoryEntryImport',\n",
       "       'ImageDirectoryEntryResource', 'ImageDirectoryEntryException',\n",
       "       'ImageDirectoryEntrySecurity'],\n",
       "      dtype='object')"
      ]
     },
     "execution_count": 4,
     "metadata": {},
     "output_type": "execute_result"
    }
   ],
   "source": [
    "df.columns"
   ]
  },
  {
   "cell_type": "code",
   "execution_count": 5,
   "metadata": {},
   "outputs": [],
   "source": [
    "X = df.drop(['Name','Malware' ], axis = 1).values"
   ]
  },
  {
   "cell_type": "code",
   "execution_count": 6,
   "metadata": {},
   "outputs": [
    {
     "data": {
      "text/plain": [
       "numpy.ndarray"
      ]
     },
     "execution_count": 6,
     "metadata": {},
     "output_type": "execute_result"
    }
   ],
   "source": [
    "type(X)"
   ]
  },
  {
   "cell_type": "code",
   "execution_count": 7,
   "metadata": {},
   "outputs": [
    {
     "data": {
      "text/plain": [
       "array([2.31170000e+04, 1.44000000e+02, 3.00000000e+00, 0.00000000e+00,\n",
       "       4.00000000e+00, 0.00000000e+00, 6.55350000e+04, 0.00000000e+00,\n",
       "       1.84000000e+02, 0.00000000e+00, 0.00000000e+00, 0.00000000e+00,\n",
       "       6.40000000e+01, 0.00000000e+00, 0.00000000e+00, 0.00000000e+00,\n",
       "       2.48000000e+02, 3.44040000e+04, 6.00000000e+00, 1.23651236e+09,\n",
       "       0.00000000e+00, 0.00000000e+00, 2.40000000e+02, 3.40000000e+01,\n",
       "       5.23000000e+02, 8.00000000e+00, 0.00000000e+00, 5.47840000e+04,\n",
       "       1.89440000e+05, 0.00000000e+00, 5.13160000e+04, 4.09600000e+03,\n",
       "       4.29496730e+09, 4.09600000e+03, 5.12000000e+02, 6.00000000e+00,\n",
       "       0.00000000e+00, 6.00000000e+00, 0.00000000e+00, 5.00000000e+00,\n",
       "       2.00000000e+00, 1.02400000e+03, 2.95281000e+05, 2.74432000e+05,\n",
       "       2.00000000e+00, 3.28320000e+04, 5.24288000e+05, 8.19200000e+03,\n",
       "       1.04857600e+06, 4.09600000e+03, 0.00000000e+00, 1.60000000e+01,\n",
       "       0.00000000e+00, 0.00000000e+00, 6.00000000e+00, 0.00000000e+00,\n",
       "       0.00000000e+00, 5.12000000e+02, 0.00000000e+00, 2.74000000e+02,\n",
       "       0.00000000e+00, 1.88416000e+05, 0.00000000e+00, 2.70336000e+05,\n",
       "       0.00000000e+00, 2.45248000e+05, 0.00000000e+00, 3.75809661e+09,\n",
       "       0.00000000e+00, 7.00000000e+00, 1.52000000e+02, 0.00000000e+00,\n",
       "       0.00000000e+00, 5.44400000e+04, 7.78240000e+04, 7.37280000e+04,\n",
       "       0.00000000e+00])"
      ]
     },
     "execution_count": 7,
     "metadata": {},
     "output_type": "execute_result"
    }
   ],
   "source": [
    "X[0]"
   ]
  },
  {
   "cell_type": "code",
   "execution_count": 8,
   "metadata": {},
   "outputs": [],
   "source": [
    "from sklearn.preprocessing import StandardScaler\n",
    "from sklearn.decomposition import PCA\n",
    "\n",
    "X = StandardScaler().fit_transform(X)"
   ]
  },
  {
   "cell_type": "code",
   "execution_count": 9,
   "metadata": {
    "scrolled": true
   },
   "outputs": [
    {
     "data": {
      "text/plain": [
       "array([ 0.        , -0.03506542, -0.04751096, -0.04054457, -0.03860147,\n",
       "       -0.04043704,  0.14886744, -0.01635299, -0.0339818 , -0.02924235,\n",
       "       -0.05893017, -0.05586989, -0.05329558, -0.05604821, -0.09271628,\n",
       "       -0.08930667,  0.39409703,  2.55673514,  0.46510526, -0.16089899,\n",
       "       -0.05112382, -0.05882497,  2.30985335, -0.5806138 ,  2.55673516,\n",
       "       -0.07860642, -0.28822308, -0.02845818, -0.02821847, -0.00875967,\n",
       "       -0.07360337, -0.01841394, -0.05817289, -0.22669255, -0.33481231,\n",
       "       -0.01888407, -0.02217824, -0.03722535, -0.04207791,  0.28341472,\n",
       "       -0.0129841 , -0.0482971 , -0.23304028, -0.03944348, -0.35502553,\n",
       "        0.89475788, -0.39910304,  0.00791826, -0.01549748, -0.03432252,\n",
       "       -0.02379985, -0.01055405, -0.74903275, -0.09913793,  0.46517515,\n",
       "       -0.85505526,  0.        , -0.04763644,  0.        , -0.05380353,\n",
       "        0.        , -0.06366286,  0.        , -0.03053373,  0.        ,\n",
       "       -0.07891185,  0.        ,  1.01441302,  0.        ,  0.11794912,\n",
       "        0.39415917, -0.0912003 , -0.0154441 , -0.07445694, -0.07054894,\n",
       "       -0.0198525 , -0.04066791])"
      ]
     },
     "execution_count": 9,
     "metadata": {},
     "output_type": "execute_result"
    }
   ],
   "source": [
    "X[0]"
   ]
  },
  {
   "cell_type": "code",
   "execution_count": 10,
   "metadata": {},
   "outputs": [
    {
     "data": {
      "text/plain": [
       "77"
      ]
     },
     "execution_count": 10,
     "metadata": {},
     "output_type": "execute_result"
    }
   ],
   "source": [
    "len(X[0])"
   ]
  },
  {
   "cell_type": "code",
   "execution_count": 11,
   "metadata": {},
   "outputs": [],
   "source": [
    "pca = PCA()\n",
    "Xdash = pca.fit_transform(X)\n"
   ]
  },
  {
   "cell_type": "code",
   "execution_count": 12,
   "metadata": {},
   "outputs": [
    {
     "data": {
      "text/plain": [
       "array([-1.16886290e-01, -7.15480741e-02,  3.16916194e+00,  1.60217942e+00,\n",
       "       -1.08518997e+00, -4.48054756e-01,  4.62141076e-01, -1.92644812e-01,\n",
       "       -3.77161530e-01, -5.67311951e-01,  4.02792196e-02,  5.69811591e-01,\n",
       "       -6.25592903e-01,  1.86680113e+00, -1.21539054e-01, -3.42152826e-01,\n",
       "       -1.95190544e-01, -2.33391969e-01, -3.45014025e-02,  3.55379220e-01,\n",
       "       -2.35352980e-02,  5.90454242e-02, -9.22855437e-03,  6.23175910e-03,\n",
       "        9.44316297e-02, -4.97347560e-01,  4.81316803e-01,  1.84736302e-01,\n",
       "       -7.96710641e-01,  6.61878639e-01, -9.20345307e-01, -1.40835671e-01,\n",
       "        1.99376285e-01, -3.49545323e-01,  1.03005921e-01, -3.45892793e-01,\n",
       "       -1.33624714e-01, -8.24697306e-01, -1.74076538e-01, -4.21941811e-02,\n",
       "        4.41508520e-01, -3.45017429e-02,  5.88588077e-02,  3.46669724e-01,\n",
       "        8.85422333e-02, -1.50076127e-02,  3.71721361e-02,  9.95104534e-02,\n",
       "        2.97609640e-02, -1.72450384e-01,  2.47519524e-01, -4.92508875e-01,\n",
       "       -9.31538886e-02, -9.51857544e-04,  1.00154338e-02,  7.37686474e-02,\n",
       "        2.84484520e-02,  2.59238857e-02,  5.65680404e-02,  4.37133275e-02,\n",
       "        6.32100643e-03,  2.96608767e-03, -6.02177661e-04,  1.84004865e-02,\n",
       "        6.55088285e-03, -1.44935195e-02, -7.44612368e-03, -2.72623719e-04,\n",
       "        9.65746872e-06,  0.00000000e+00, -0.00000000e+00,  0.00000000e+00,\n",
       "        0.00000000e+00, -0.00000000e+00,  0.00000000e+00, -0.00000000e+00,\n",
       "        2.76090667e-14])"
      ]
     },
     "execution_count": 12,
     "metadata": {},
     "output_type": "execute_result"
    }
   ],
   "source": [
    "Xdash[0]"
   ]
  },
  {
   "cell_type": "code",
   "execution_count": 14,
   "metadata": {},
   "outputs": [
    {
     "data": {
      "text/plain": [
       "array([1.13714096e-01, 6.04526312e-02, 5.35847638e-02, 4.95286930e-02,\n",
       "       4.08242868e-02, 3.43687925e-02, 3.32004002e-02, 3.01112226e-02,\n",
       "       2.86901095e-02, 2.81624164e-02, 2.54807940e-02, 2.38845548e-02,\n",
       "       2.22696648e-02, 2.05755591e-02, 1.82485433e-02, 1.73648310e-02,\n",
       "       1.66649078e-02, 1.63647194e-02, 1.52683994e-02, 1.46357930e-02,\n",
       "       1.45790542e-02, 1.45535760e-02, 1.44699413e-02, 1.44154480e-02,\n",
       "       1.42948516e-02, 1.39221004e-02, 1.35338124e-02, 1.33766277e-02,\n",
       "       1.32896667e-02, 1.23472302e-02, 1.20507834e-02, 1.15452214e-02,\n",
       "       1.13731313e-02, 1.10939084e-02, 1.07062189e-02, 1.01649154e-02,\n",
       "       9.90148375e-03, 9.61478385e-03, 9.17627698e-03, 9.04802544e-03,\n",
       "       8.66332999e-03, 6.94752252e-03, 6.84216033e-03, 6.48244001e-03,\n",
       "       5.95005317e-03, 5.91335216e-03, 5.41615029e-03, 5.10640740e-03,\n",
       "       4.83543074e-03, 4.45888820e-03, 4.29104432e-03, 3.82076025e-03,\n",
       "       3.79864324e-03, 3.24146447e-03, 3.18558571e-03, 2.67004617e-03,\n",
       "       2.03201471e-03, 1.73591476e-03, 1.65758475e-03, 1.56708821e-03,\n",
       "       1.38839592e-03, 1.20694096e-03, 8.20896559e-04, 6.92520065e-04,\n",
       "       2.79632267e-04, 1.36614783e-04, 6.56001071e-06, 3.22441346e-07,\n",
       "       1.26534195e-10, 5.64125607e-34, 5.64125607e-34, 5.64125607e-34,\n",
       "       5.64125607e-34, 5.64125607e-34, 5.64125607e-34, 5.64125607e-34,\n",
       "       5.63722303e-34])"
      ]
     },
     "execution_count": 14,
     "metadata": {},
     "output_type": "execute_result"
    }
   ],
   "source": [
    "pca.explained_variance_ratio_"
   ]
  },
  {
   "cell_type": "code",
   "execution_count": 16,
   "metadata": {},
   "outputs": [
    {
     "data": {
      "text/plain": [
       "0.9068522354673683"
      ]
     },
     "execution_count": 16,
     "metadata": {},
     "output_type": "execute_result"
    }
   ],
   "source": [
    "sum(pca.explained_variance_ratio_[:40])"
   ]
  },
  {
   "cell_type": "code",
   "execution_count": null,
   "metadata": {},
   "outputs": [],
   "source": []
  }
 ],
 "metadata": {
  "kernelspec": {
   "display_name": "Python 3",
   "language": "python",
   "name": "python3"
  },
  "language_info": {
   "codemirror_mode": {
    "name": "ipython",
    "version": 3
   },
   "file_extension": ".py",
   "mimetype": "text/x-python",
   "name": "python",
   "nbconvert_exporter": "python",
   "pygments_lexer": "ipython3",
   "version": "3.7.4"
  }
 },
 "nbformat": 4,
 "nbformat_minor": 2
}
