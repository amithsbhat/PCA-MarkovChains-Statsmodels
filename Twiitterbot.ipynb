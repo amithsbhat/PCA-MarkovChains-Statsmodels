{
 "cells": [
  {
   "cell_type": "code",
   "execution_count": 70,
   "metadata": {},
   "outputs": [],
   "source": [
    "\n",
    "import tweepy \n",
    "  \n",
    "# Fill the X's with the credentials obtained by  \n",
    "# following the above mentioned procedure. \n",
    "consumer_key = \"XXXXXXXXXXXXXXXXXXXXXXXXXXXXXXXXXXXXXXXXXXXXXX\" \n",
    "consumer_secret = \"XXXXXXXXXXXXXXXXXXXXXXXXXXXXXXXXXXXXXXXXXXX\"\n",
    "access_key = \"XXXXXXXXXXXXXXXXXXXXXXXXXXXXXXXXXXXXXXXXXXXXXXXX\"\n",
    "access_secret = \"XXXXXXXXXXXXXXXXXXXXXXXXXXXXXXXXXXXXXXXXXXXXX\"\n",
    "\n",
    "  \n",
    "# Function to extract tweets \n",
    "def get_tweets(username):\n",
    "    \n",
    "          \n",
    "    # Authorization to consumer key and consumer secret \n",
    "    auth = tweepy.OAuthHandler(consumer_key, consumer_secret) \n",
    "\n",
    "    # Access to user's access key and access secret \n",
    "    auth.set_access_token(access_key, access_secret) \n",
    "\n",
    "    # Calling api \n",
    "    api = tweepy.API(auth) \n",
    "\n",
    "    # 200 tweets to be extracted \n",
    "    number_of_tweets=200\n",
    "    tweets = api.user_timeline(screen_name=username, count=number_of_tweets) \n",
    "\n",
    "    # Empty Array \n",
    "    tmp=[]  \n",
    "\n",
    "    # create array of tweet information: username,  \n",
    "    # tweet id, date/time, text \n",
    "    tweets_for_csv = [tweet.text for tweet in tweets] # CSV file created  \n",
    "    for j in tweets_for_csv: \n",
    "\n",
    "        # Appending tweets to the empty array tmp \n",
    "        tmp.append(j)  \n",
    "\n",
    "    # Printing the tweets \n",
    "    print(tmp)\n",
    "\n",
    "    return tmp\n",
    "        \n",
    "\n",
    "def post_tweet(text): \n",
    "          \n",
    "        # Authorization to consumer key and consumer secret \n",
    "        auth = tweepy.OAuthHandler(consumer_key, consumer_secret) \n",
    "  \n",
    "        # Access to user's access key and access secret \n",
    "        auth.set_access_token(access_key, access_secret) \n",
    "  \n",
    "        # Calling api \n",
    "        api = tweepy.API(auth) \n",
    "  \n",
    "        \n",
    "        api.update_status(text)\n",
    "        \n",
    "        print(\"Success\")\n",
    "  \n",
    "#get_tweets(\"twitter\")\n",
    "#post_tweet(\"My first tweet using tweepy...\")"
   ]
  },
  {
   "cell_type": "code",
   "execution_count": 131,
   "metadata": {},
   "outputs": [
    {
     "name": "stdout",
     "output_type": "stream",
     "text": [
      "['@Durty_Dutch So glad to hear that your local store was able to make things right, thank you for sharing! *AG', \"@donrazaq Yikes, that's not how we wanted your order to arrive. Please DM us so we can help make this right. *AG https://t.co/Cf8BiToVpb\", \"@dmikeyanderson Oh no, I'm sorry to hear this. Please DM us so we can help get that looked into. *AG https://t.co/Cf8BiToVpb\", '@Nam_jiminie We hate to leave you disappointed. Please DM us, so we can help. *ZB https://t.co/Cf8BiToVpb', \"@CWT_3 I'm sorry to hear that, and we want to follow up. Can you please DM us? *ZB https://t.co/Cf8BiToVpb\", '@lilsquishy92 We expect better for you, Alyssa. Please DM us so we can follow up. *ZB https://t.co/Cf8BiToVpb', \"@Maurilove_ That's not cool. Pls DM us so we can help make this right. *RS https://t.co/Cf8BiToVpb\", '@nvrnezrte Thank you for bringing this to our attention. Can you please DM us, so we can look into your experience?… https://t.co/GM0DxS29ud', \"@kbreaze88 This shouldn't happen. Pls DM us so we can help get this addressed. *RS https://t.co/Cf8BiToVpb\", \"@meredith_foy I'm sorry you didn't get your order. Can you please DM us, so we can help make it right? *ZB https://t.co/Cf8BiToVpb\", \"@TwinboysnaDiva I'm sorry to hear about that wait time. Please send us a DM, so we can investigate. *ZB https://t.co/Cf8BiToVpb\", \"@Samuelgraham5 I'm sorry you had trouble ordering, Sam. Can you please DM us, so we can make sure it gets fixed? *ZB https://t.co/Cf8BiToVpb\", '@VictorySheIs We hate to leave you disappointed. Please DM us, so we can hear about your experience. *ZB https://t.co/Cf8BiToVpb', '@ArcadiaLynn1 Thank you for reaching out. Please feel free to DM us, so we can look into this for you. *ZB https://t.co/Cf8BiToVpb', \"@_Ambiti0n I'm sorry we left you disappointed, Taylor. Please DM us, so we can help make it up to you. *ZB https://t.co/Cf8BiToVpb\", \"@Kingboss214 I'm sorry to hear that. Please DM us, so we can look into the pizza tracker for your order. *ZB https://t.co/Cf8BiToVpb\", '@CYNTJNYA2402 We want to make sure this gets addressed. Can you please DM us about your order? *ZB https://t.co/Cf8BiToVpb', \"@Ialwaysluvthat1 I'm sorry we let you down, Luke. Can you please DM us, so we can help make it right? *ZB https://t.co/Cf8BiToVpb\", \"@TyanaNWrites I'm sorry you got your order like that. Can you please DM us, so we can help make it up to you? *ZB https://t.co/Cf8BiToVpb\", \"@TiffLanelle I'm sorry you got your order like this. Can you please DM us, so we can help make it right? *ZB https://t.co/Cf8BiToVpb\", '@WharbGharb We value your feedback. Please feel free to DM us, so we can hear more about your order. *ZB https://t.co/Cf8BiToVpb', '@fuelbot We want to hear your feedback, Brian. Can you please DM us? *ZB https://t.co/Cf8BiToVpb', '@Dallass111 We want to hear what happened. Can you please DM us about your experience? *ZB https://t.co/Cf8BiToVpb', \"@_aquariansun I'm sorry we let you down again. Please DM us, so we can look into your order. *ZB https://t.co/Cf8BiToVpb\", \"@MyCatEdwin I'm sorry we left you waiting. Can you please DM us about your experience? *ZB https://t.co/Cf8BiToVpb\", '@iLeonWhyte Hi! We want to get to the bottom of this. Can you please DM us with more details? *ZB https://t.co/Cf8BiToVpb', \"@itsJennbxtch I'm sorry we let you down, Jennifer. Please DM us, so we can look into your order. *ZB https://t.co/Cf8BiToVpb\", '@Kimlyjac We want to get down to the bottom of this just as much as you do. Can you please DM us? *NB https://t.co/Cf8BiToVpb', \"@DaniVanHawaiian I'm sorry your deliveries haven't been contactless. Can you please DM us, so we can make sure it's… https://t.co/ptcY8NUXlO\", '@PulpReel Thanks for reaching out to us about this. Please share your experience with @dominos_ROI so they can further assist. *ZB', '@ruggraat7 We want to look into this. Can you please DM us about your order? *ZB https://t.co/Cf8BiToVpb', '@Shanti_x3 We want to hear more about what happened. Can you please DM us about your experience? *ZB https://t.co/Cf8BiToVpb', '@Louisajobs Sorry for the trouble, Louisa. Pls DM us so we can help further assist. *RS https://t.co/Cf8BiToVpb', '@mackysko Oh no! Please share this with @Dominos_Uk so they can further assist. *ZB', \"@Prettiyardie I'm sorry your delivery was late. Please DM us, so we can hear more about your experience. *ZB https://t.co/Cf8BiToVpb\", \"@Ankhypoos I'm sorry to hear about that, Ellie. Please DM us, so we can make sure this gets addressed. *ZB https://t.co/Cf8BiToVpb\", '@SteveMckenna126 Thank you for reaching out to us. Based on your location, please share this with our @Dominos_Uk t… https://t.co/l1YQtJY4yb', '@lenevocharu Thank you for reaching out to us. Based on your location, please share this with our @dominos_india te… https://t.co/eEpQbra10i', '@shell_swan Thank you for reaching out to us. Based on your location, please share this with our @Dominos_Uk team f… https://t.co/p7qgapGElz', '@vijay6664 Thank you for reaching out to us. Based on your location, please share this with our @dominos_india team… https://t.co/WcrvdhPJOS', '@jrsawyer37 That sounds frustrating and we want to help make sure this is addressed. Can you please DM us? *AG https://t.co/Cf8BiToVpb', '@CaptPolitical Thank you for reaching out to us. Based on your location, please share this with our @DominosCanada… https://t.co/LAaRrCKWkz', '@Tashu1993 Thanks for reaching out to us about this. Please share your experience with @dominos_india so they can further assist. *AG', '@qw123shagun Thank you for reaching out to us. Based on your location, please share this with our @dominos_india te… https://t.co/qGhIlScQCV', '@jiji294295 Thanks for reaching out to us about this. Please share your experience with @DominosKSA so they can further assist. *AG', '@prakash5860 Thank you for reaching out to us. Based on your location, please share this with our @dominos_india te… https://t.co/QT6xWV858g', '@PositiveRohit Thank you for reaching out to us. Based on your location, please share this with our @dominos_india… https://t.co/Sjvb8agDeD', '@AkashTo35118769 Thank you for reaching out to us. Based on your location, please share this with our… https://t.co/Uaj6Rk1wE6', '@ldole7 Yikes! It sounds like we dropped the ball. Please DM us so we can help. *MK https://t.co/Cf8BiToVpb', '@luckylokendra15 Thank you for sharing your experience with us. Please DM us so we can follow up. *MK https://t.co/Cf8BiToVpb', '@tru_blue2 So sorry we let you down. Please shoot us a DM so we can assist. *KA https://t.co/Cf8BiToVpb', \"@Headd__Honcho I'm sorry to hear that this was your experience. We want to help get this addressed. Can you please… https://t.co/nLlTdBV61u\", '@FukUthatsFunny So sorry that your pizza arrived like this. Please DM us so we can help get this looked into. *AG https://t.co/Cf8BiToVpb', '@RockterDoctor Thank you for reaching out. Please shoot us a DM so we can follow up. *KA https://t.co/Cf8BiToVpb', '@ah_stay_mad So sorry to keep you waiting. Please shoot us a DM so we can follow up. *KA https://t.co/Cf8BiToVpb', '@JoshGiovanardi I know we can do better and we want to help. Can you please DM us? *AG https://t.co/Cf8BiToVpb', '@OhGSnoop We hate letting you down and I know we can do better. Can you please DM us? *AG https://t.co/Cf8BiToVpb', \"@Blazingorchidlv This isn't the experience we wanted you to have. Please DM us so we can help make this right. *AG https://t.co/Cf8BiToVpb\", '@uninemclite Yikes, sorry to see this happened. Please DM us so we can help make this up to you. *AG https://t.co/Cf8BiToVpb', \"@JesseElpanda I'm so sorry to hear we kept you waiting. If you need assistance, please DM us so we can help. *AG https://t.co/Cf8BiToVpb\", \"@domesticated_k Thank you for sharing this. I've replied to your DM and will be able to continue to assist you there. *AG\", 'Don’t mind me, just zoomin’ through your timeline to go get my Domino’s Carside Delivery™ pizza.… https://t.co/0kLxiNCTmG', '@alwaysLo760 We want to hear more about what happened so we can help look into this. Can you please DM us? *AG https://t.co/Cf8BiToVpb', \"@Ohsnap_itstee I'm sorry to hear that we let you down. I want to help make this right because I know you deserve be… https://t.co/f6vmATT0RU\", '@dearyasminnnn We never meant to keep you waiting. Please DM us so we can help make this right. *AG https://t.co/Cf8BiToVpb', \"@HamartiaCodex This shouldn't happen and we want to help get to the bottom of this. Can you please DM us? *AG https://t.co/Cf8BiToVpb\", \"@tahenry3 I'm so sorry to hear about this delay and I know you deserve better. Please DM us so we can help look int… https://t.co/jn3ZP2YZJe\", \"@theglamstation Yikes! That's not cool. Please shoot us a DM so we can follow up. *KA https://t.co/Cf8BiToVpb\", '@leola_simone I know we can do better and we appreciate you sharing this with us. Please DM us so we can assist. *AG https://t.co/Cf8BiToVpb', \"@KelliRed I'm sorry we let you down. We received your DM and followed up with you there. *KA\", \"@Kristians_mommy Yikes, that's not the pizza we wanted for you. Please DM us so we can help look into this. *AG https://t.co/Cf8BiToVpb\", '@kkxyyllaa So sorry to hear about the icing cup. We want to help make this up to you. Please DM us. *AG https://t.co/Cf8BiToVpb', \"@cmondeaux78 We'd like to help get this looked into because I know this isn't the experience we want for our custom… https://t.co/sC6UtL4B79\", '@AaronDeVine39 You deserve better and we want to help get this looked into. Can you please DM us? *AG https://t.co/Cf8BiToVpb', '@kikimommy2008 We never meant to disappoint you. Please DM us about what happened so we can help. *AG https://t.co/Cf8BiToVpb', '@King_Eog1984 Sounds like we dropped the ball and I want to help make this up to you. Can you please DM us? *AG https://t.co/Cf8BiToVpb', \"@HoodieHatHoops Oh no! I'm sorry we let you down. We would be happy to help. Can you please DM us? *KA https://t.co/Cf8BiToVpb\", \"@annoyingNcute We know that waiting isn't fun, and I'm sorry we let you down. Please shoot us a DM so we can follow… https://t.co/EaNSBN6CBO\", \"@beefnfurs I'm sorry to hear that this happened. Can you please DM us so we can make this right? *KA https://t.co/Cf8BiToVpb\", '@iAmKeAmbre Thank you for bringing this to our attention. Please DM us so we can follow up. *KA https://t.co/Cf8BiToVpb', \"@Twilly03 I'm sorry to hear that this happened, Todd. Please shoot us a DM so we can follow up. *KA https://t.co/Cf8BiToVpb\", \"@stefanieelax I'm sorry to hear that you did not receive your pizza. Please DM us so we can help. *KA https://t.co/Cf8BiToVpb\", '@Miz_banks We hate letting you down. Please shoot us a DM so we can get this addressed. *KA https://t.co/Cf8BiToVpb', \"@gatekeeper75 I would be frustrated, too, and I'm sorry we let you down. Please shoot us a DM so we can follow up.… https://t.co/0YbJp1OLRw\", '@StormClericJosh Thank you for bringing this to our attention. Please DM us so we can assist. *KA https://t.co/Cf8BiToVpb', \"@Triceyyy I'm sorry to hear that. Can you please DM us so we can follow up with you? *KA https://t.co/Cf8BiToVpb\", \"@eacxel Oh no! I'm sorry we let you down. Can you please DM us so we can help? *KA https://t.co/Cf8BiToVpb\", '@OhFloMo We are here to help. Please shoot us a DM so we can make this right. *KA https://t.co/Cf8BiToVpb', \"@xVastt We know that waiting isn't fun, and I'm sorry we let you down. Please DM us so we can assist. *KA https://t.co/Cf8BiToVpb\", \"@moseslyrics Yikes. I'm sorry you received your pizza like that. Please shoot us a DM so we can follow up. *KA https://t.co/Cf8BiToVpb\", '@vturn7 We hate to let you down, Veronica. Can you please DM us? We want to help. *NB https://t.co/Cf8BiToVpb', \"@hondoscotty That's not cool, Scott. I'm sorry we let you down. Please shoot us a DM so we can get this addressed.… https://t.co/wNyvpNbEyZ\", '@LifeInChucks That is frustrating, and we want to help. Can you please DM us? *NB https://t.co/Cf8BiToVpb', '@BristolAbsurd It must have been very frustrating for you to experience this. Please DM us so we can look into this… https://t.co/W5ubEq0DLb', \"@covfefeaddict Yikes! I'm sorry your pizza arrived this way, Alexander. Can you please DM us? We want to help. *NB https://t.co/Cf8BiToVpb\", '@Thnkoutloud2 It must have been very frustrating for you to experience this. Can you please DM us? We want to help.… https://t.co/VVKqYdS1WY', '@_changlicks Sorry, we kept you waiting. Pls shoot us a DM so we can help get this addressed for you. *RS https://t.co/Cf8BiToVpb', '@tattedxrevolver We take these matters seriously. Please DM us so we can follow up with you. *NB https://t.co/Cf8BiToVpb', '@TweetN4ABeatN Thanks for bringing this to our attention. Pls DM us so we can help get this corrected. *RS https://t.co/Cf8BiToVpb', '@MoneyMindset13 We hate to keep you waiting. Pls Dm us so we can help get this addressed. *RS https://t.co/Cf8BiToVpb', \"@Ms_Demeanor77 This shouldn't happen. Pls DM us so we can help get this addressed. *RS https://t.co/Cf8BiToVpb\", '@toyabsweet Thanks for reaching out, LaToya. Pls DM us w/more info regarding your experience so we can help. *RS https://t.co/Cf8BiToVpb', '@niranjansanka Thanks for reaching out. Based on your location @dominos_india would be able to help further assist. *RS', \"@AnaJRiv I'm sorry you were treated this way. You deserve better and I want to get this addressed. Can you please D… https://t.co/8aiEcTcDd9\", \"@Sam65884507 This isn't what we expected to happen, Sam. You deserve better. We can help. Please DM us. *JH https://t.co/Cf8BiToVpb\", '@SenseiSachin Thank you for reaching out to us. Based on your location, please share this with our @dominos_india t… https://t.co/FNfHcGKwFZ', \"@simonmckim That's not the contactless delivery we wanted for you, Simon. Please DM us so we can help look into thi… https://t.co/TuPsbRxcQN\", '@SOHITKUSHWAHA4 Thank you for sharing this. I believe our friends @dominos_india will best be able to assist with this. *AG', '@hidetheevidence Thank you for taking the time to share this with us. If your store is located in Ireland, please r… https://t.co/BBqcbjizYP', '@hidetheevidence We appreciate you reaching out about this. Could you please DM us with what country your store is… https://t.co/L0oZTVVavQ', '@YGohourou We never meant to let you down like this. Please DM us so we can help look into this. *AG https://t.co/Cf8BiToVpb', '@_drsl Sounds like we dropped the ball and I want to help get this looked into. Can you please DM us? *AG https://t.co/Cf8BiToVpb', '@jasjatt Thanks for reaching out to us about this. Please share your experience with @dominos_india so they can further assist. *AG', '@Serosedserio We never meant to keep you waiting and I want to help get this addressed. Can you please DM us? *AG https://t.co/Cf8BiToVpb', '@sudheerbhogi Thank you for reaching out to us. Based on your location, please share this with our @Dominos_India t… https://t.co/phPRcfBH6z', \"@amyamoorelove I'm sorry we kept you waiting. Please DM us so we can help get this addressed. *RR https://t.co/Cf8BiToVpb\", \"@LilBoujieVertt Oh no, I'm sorry your Cinnamon Twists arrived like this. Please DM us so we can help get to the bot… https://t.co/v1AH1nbLdM\", 'Repeat after me: \\n\\n                     Let’s.\\n                        🍕\\n                      Get.… https://t.co/Keqcg6RWKI', '@ninjanate477 We never meant to keep you waiting. Please DM us so we can help look into this. *AG https://t.co/Cf8BiToVpb', '@branfont Thank you for bringing this to our attention. We received your DM and followed up with you there. *KA', \"@WJoelBravo I'm sorry you didn't receive your pizza, Joel. Please DM us so we can help get this addressed. *RR https://t.co/Cf8BiToVpb\", \"@juliant59 We know that waiting isn't fun, and I'm sorry we let you down. Please shoot us a DM so we can follow up.… https://t.co/b5ReFHvv6p\", '@Addisonisgreat We never meant to let you down like this. Can you please DM us? We want to help get this addressed.… https://t.co/SR5vzIv0Gz', \"@alma49451161 I'm sorry your order was late. Please DM us so we can help out. *RR https://t.co/Cf8BiToVpb\", '@FREEGAMEZONE3 I know you deserve a better delivery and I want to help look into this. Can you please DM us? *AG https://t.co/Cf8BiToVpb', \"@BumbleDaBeeTuna Thank you for reaching out to us. We're sorry about your experience, Kara. Please send us a DM so… https://t.co/1b5QkPq1f3\", '@SunshineMashaa Sounds like we dropped the ball and I want to help get this looked into. Can you please DM us? *AG https://t.co/Cf8BiToVpb', '@Teedoh15 We never meant to keep you waiting like this. Please DM us so we can help make things right. *AG https://t.co/Cf8BiToVpb', \"@RozarioSwetha Yikes, that's not right. Please DM us so we can help get to the bottom of this. *AG https://t.co/Cf8BiToVpb\", '@postitnotenikki We hate letting you down and I want to help make this right. Can you please DM us? *AG https://t.co/Cf8BiToVpb', \"@ReginaMoldovan I'm so sorry to hear about this frustrating delivery. Please DM us so we can help get to the bottom… https://t.co/3sdgY0tUbA\", \"@haul_monitor We're always here to help. Please DM us so we can best assist. *AG https://t.co/Cf8BiToVpb\", \"@Benniegirl05 I'm sorry to hear that your dessert came this way. I want to help get this looked into. Please DM us.… https://t.co/kWC8jQjJWe\", '@TyniekYvonne We never meant to let you down like this. Please DM us so I can help make this right. *AG https://t.co/Cf8BiToVpb', '@gottalottasata5 We know waiting for your order is rough and I want to help make this up to you. Can you please DM… https://t.co/MOmHr2lA0C', \"@wiIdcrazy I'm sorry that your pasta didn't arrive the way we expected it to. Please DM us so we can help look into… https://t.co/p713WZVhQX\", '@BadGuyLycan That sounds frustrating and we want to help look into this. Can you please DM us? *AG https://t.co/Cf8BiToVpb', '@ElSerg3 We want to help get to the bottom of this because I know you deserve a better delivery. Can you please DM… https://t.co/5SzzfxhItH', \"@JagsWizCapsOs That isn't how we wanted your Pan Pizza to arrive and I want to help get this addressed. Can you ple… https://t.co/kynDTVUP3D\", '@lulunjayy Thanks for reaching out about this. I just replied to your DM and will continue to assist you there. *AG', \"@rimmyblaze Sorry to hear about this entire experience. Please DM us. This is something we'd like to follow up. *TA https://t.co/Cf8BiToVpb\", \"@Spirit_o_69_Oi That's not cool. Can you please DM us? We'd like to help get this addressed so these issues don't c… https://t.co/ALDNnlnaHX\", '@rlrandolph We know how frustrating waiting can be. Please DM us so we can help make this up to you. *TA https://t.co/Cf8BiToVpb', \"@addylune I'm sorry we let you down. We are here to help. We received your DM and followed up with you there. *KA\", \"@sir_not_a_bot We're sorry for the frustration this caused you, Jack. Please DM us so we can help get this addresse… https://t.co/DyrwhNQzGi\", \"@Gregforil We're sorry for the frustration this has caused you, Greg. Please DM us so we can further assist. *RR https://t.co/Cf8BiToVpb\", \"@timf5050 I'm sorry we let you down. We are here to help. Please DM us so we can follow up. *KA https://t.co/Cf8BiToVpb\", '@StarGeezerTim We hate to disappoint. Please DM us so we can help make this right. *TA https://t.co/Cf8BiToVpb', '@megamingmaster9 Thank you for reaching out to us about this. Please send us a DM so we can help out. *RR https://t.co/Cf8BiToVpb', \"@consortium757 That's not the experience we wanted for you, Shane. I'm sorry this happened. Please DM us so we can… https://t.co/DMmuXpycDr\", \"@ryan_a__24 I'm sorry you didn't get sauce on your pizza, Ryan. That's not okay. Please DM us so we can help out. *… https://t.co/IJlDfWFjf5\", '@johnwall985 Thank you for reaching out to us, John. We hate to disappoint. Please DM us so we can help get this ad… https://t.co/sopPf4lcFe', \"@_BOLDbeauty I'm sorry for the frustration this has caused you, Danni. Please DM us so we can help out. *RR https://t.co/Cf8BiToVpb\", \"@krissykreame @livomarierose I'm sorry we kept you waiting. Please DM us so we can help out. *RR https://t.co/Cf8BiToVpb\", '@Sapperallan @Avoiding Thank you for reaching out to us. Based on your location, please share this with our… https://t.co/lrIebgNw9I', '@Beechy313 Thank you for reaching out to us. Based on your location, please share this with our @Dominos_UK team for further assistance. *RR', '@Rebekah53944722 Thanks for reaching out to us about this, Rebekah. Please share your experience with @Dominos_UK s… https://t.co/khuDL5SsnQ', '@nivedya96 Thank you for reaching back out to us. We received your DM and have followed up with you there. *RR', \"@shaunsag I'm sorry we kept you waiting, Shaun. Please DM us so we can help get this addressed. *RR https://t.co/Cf8BiToVpb\", \"@SteveMcCats I'm sorry we let you down. Please DM us so we can help make this up to you. *RR https://t.co/Cf8BiToVpb\", '@tushtaneja11229 Thanks for reaching out to us about this. Please share your experience with @Dominos_India so they can further assist. *RR', '@pieceofurheart Thank you for reaching out to us. Based on your location, please share this with our @Dominos_UK te… https://t.co/zZUEajGAZ0', \"@ahriyaahnn I'm sorry we let you down. Please DM us so we can help out. *RR https://t.co/Cf8BiToVpb\", '@Rajan_sharma11 Thank you for reaching out. Based on your location, @dominos_india is best able to assist. *KA', '@dharmeshtomar5 Thank you for reaching out to us. Based on your location, please share this with our @dominos_india… https://t.co/69QLiislKP', '@beauchambers Thank you for reaching out to us. Based on your location, please share this with our @Dominos_Uk team… https://t.co/4XMD32OrIU', '@Shriram_Kumar21 Thank you for reaching out to us. Based on your location, please share this with our… https://t.co/uaxZIQtr2C', '@Subham_Sonu04 Based on your location @dominos_india would be able to help assist also, Subham. *RS', \"@FalakHasija We don't take matters like these lightly. Pls shoot us DM us so we can help get this addressed. *RS https://t.co/Cf8BiToVpb\", '@caz0011666 Thanks for reaching out. Please share this with @Dominos_Uk for further assistance. *RS', '@FurkanD88211282 Thank you for reaching out to us. Based on your location, please share this with our Ukraine team… https://t.co/WZTlep4YLK', '@Aditya63034042 Thanks for reaching out. Based on your location @dominos_india would be able to help further assist. *RS', '@jivan_2922 Thanks for reaching out to us about this. Please share your experience with @dominos_india so they can further assist. *NB', '@jivan_2922 Thanks for reaching out. Based on your location @dominos_india would be able to help further assist. *RS', \"@JeffreyR57 This shouldn't happen, Jeffrey. Pls shoot us a DM so we can help get this addressed. *RS https://t.co/Cf8BiToVpb\", '@iKon_44 Oh no! Pls DM us so we can help look into this further for you. *RS https://t.co/Cf8BiToVpb', '@aneeketbarua Thank you for reaching out to us. Based on your location, please share this with our @dominos_india t… https://t.co/pJjtKMlg7v', \"@therealjaylin11 I'm sorry we dropped the ball on this. Pls DM us so we can help make this right. *RS https://t.co/Cf8BiToVpb\", \"@TaziaAlexa I'm sorry we let you down again. Pls DM us so we can help further assist. *RS https://t.co/Cf8BiToVpb\", \"@iKhoiBui This isn't the delivery experience we wanted you to have. Can you please DM us? *NB https://t.co/Cf8BiToVpb\", '@Steph_In_Texas Yikes. Sounds like we dropped the ball. Pls shoot us a DM so we can help make this right. *RS https://t.co/Cf8BiToVpb', '@AryaSha48381259 Thank you for reaching out to us. Based on your location, please share this with our… https://t.co/xWYcye8zZ2', \"@ShueChristopher I'm sorry we let you down, Christopher. Can you please DM us? We want to get this addressed. *NB https://t.co/Cf8BiToVpb\", '@misstyler__ So sorry to keep you waiting, Ty. Can you please DM us? We want to help. *NB https://t.co/Cf8BiToVpb', '@SweetTreats387 We hate disappointing you, Kristen. Please DM us so we can help. *JH https://t.co/Cf8BiToVpb', '@youngdellen We hate disappointing you, Dellen. We can help with this. Please DM us. *JH https://t.co/Cf8BiToVpb', '@Queen_Kuro We hate disappointing you. We can help. Please DM us. *JH https://t.co/Cf8BiToVpb', '@Vanessa21B We take matters like this seriously, Vanessa. Thank you for bringing this to our attention. Please DM u… https://t.co/vhfnRk9hSj', '@Im_Qray So sorry that you were left waiting. Please DM us so we can help make this right for you. *JH https://t.co/Cf8BiToVpb', '@LidBrain We never meant to let you down like this. I want to help make this up to you, could you DM us more about… https://t.co/Inb0RUDCU9', '@HeartBreakBonez We never wanted to keep you waiting like this. Please DM us so we can help make this up to you. *AG https://t.co/Cf8BiToVpb', '@amen_frenchii We hate disappointing you. Please DM us so we can help make this up to you. *JH https://t.co/Cf8BiToVpb', \"@J___G____ I'm sorry that we let you down. Please DM us so we can help. *JH https://t.co/Cf8BiToVpb\", '@_SymoneWilliams Thank you for reaching back out to us. I see your DM and will be able to assist you there shortly. *AG', '@ArtofOTwisted We hate disappointing you. Please DM us so we can follow up and help make this up to you. *TA https://t.co/Cf8BiToVpb', '@ArtofOTwisted I know you deserve better and we want to help get this looked into. Can you please DM us? *AG https://t.co/Cf8BiToVpb', '@rodanderson999 We hate letting you down. Please shoot us a DM so we can make sure this gets addressed. *KA https://t.co/Cf8BiToVpb', \"@AmyPrinciotta Oh no! I'm so sorry we let you down. I would be happy to help. Can you please DM us? *KA https://t.co/Cf8BiToVpb\", \"@syvbrewer I'm sorry we let you down. Can you please DM us so we can assist? *KA https://t.co/Cf8BiToVpb\", '@Sgf_Cardinals @MiLB 👀👀👀']\n"
     ]
    }
   ],
   "source": [
    "extractedTweets= get_tweets(\"dominos\")"
   ]
  },
  {
   "cell_type": "code",
   "execution_count": 124,
   "metadata": {},
   "outputs": [],
   "source": [
    "import re\n",
    "\n",
    "def replace_URLs(string, new_URL):\n",
    "    \"\"\"Replaces all URLs in a string with a custom URL.\"\"\"\n",
    "    modified_string = re.sub(\n",
    "        \"http[s]?://(?:[a-zA-Z]|[0-9]|[$-_@.&+]|[!*\\(\\), ]|(?:%[0-9a-fA-F][0-9a-fA-F]))+\",\n",
    "        \" \" + new_URL + \" \",\n",
    "        string,\n",
    "    )\n",
    "    return modified_string"
   ]
  },
  {
   "cell_type": "code",
   "execution_count": 132,
   "metadata": {},
   "outputs": [],
   "source": [
    "modifiedTweet = [replace_URLs(x, \"https://twitter.com/tweeperoid\") for x in extractedTweets]"
   ]
  },
  {
   "cell_type": "code",
   "execution_count": 133,
   "metadata": {},
   "outputs": [],
   "source": [
    "text = \"\".join(modifiedTweet)"
   ]
  },
  {
   "cell_type": "code",
   "execution_count": 134,
   "metadata": {},
   "outputs": [],
   "source": [
    "import markovify\n",
    "markov_model = markovify.Text(text)"
   ]
  },
  {
   "cell_type": "code",
   "execution_count": 135,
   "metadata": {},
   "outputs": [
    {
     "name": "stdout",
     "output_type": "stream",
     "text": [
      "Success\n",
      "Success\n",
      "Success\n",
      "Success\n",
      "Success\n",
      "Success\n",
      "Success\n"
     ]
    }
   ],
   "source": [
    "for i in range(7):\n",
    "    tweet = markov_model.make_short_sentence(120) \n",
    "    if tweet:\n",
    "        post_tweet(tweet)\n",
    "   "
   ]
  },
  {
   "cell_type": "code",
   "execution_count": null,
   "metadata": {},
   "outputs": [],
   "source": []
  }
 ],
 "metadata": {
  "kernelspec": {
   "display_name": "Python 3",
   "language": "python",
   "name": "python3"
  },
  "language_info": {
   "codemirror_mode": {
    "name": "ipython",
    "version": 3
   },
   "file_extension": ".py",
   "mimetype": "text/x-python",
   "name": "python",
   "nbconvert_exporter": "python",
   "pygments_lexer": "ipython3",
   "version": "3.7.4"
  }
 },
 "nbformat": 4,
 "nbformat_minor": 2
}
